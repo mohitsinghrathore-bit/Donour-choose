{
 "cells": [
  {
   "cell_type": "markdown",
   "metadata": {
    "colab_type": "text",
    "id": "Dnubs-Nnb3cw"
   },
   "source": [
    "# Assignment 6: Apply NB"
   ]
  },
  {
   "cell_type": "code",
   "execution_count": 40,
   "metadata": {},
   "outputs": [],
   "source": [
    "%matplotlib inline\n",
    "import warnings\n",
    "warnings.filterwarnings(\"ignore\")\n",
    "\n",
    "import pandas as pd\n",
    "import numpy as np\n",
    "import nltk\n",
    "import matplotlib.pyplot as plt\n",
    "import seaborn as sns\n",
    "from sklearn.feature_extraction.text import TfidfVectorizer\n",
    "from sklearn.feature_extraction.text import CountVectorizer\n",
    "from sklearn.metrics import confusion_matrix\n",
    "from sklearn import metrics\n",
    "from sklearn.metrics import roc_curve, auc\n",
    "\n",
    "import re\n",
    "# Tutorial about Python regular expressions: https://pymotw.com/2/re/\n",
    "\n",
    "import pickle\n",
    "from tqdm import tqdm\n",
    "import os\n"
   ]
  },
  {
   "cell_type": "markdown",
   "metadata": {
    "colab_type": "text",
    "id": "FYqCIxzFb3c5"
   },
   "source": [
    "## 1.1 Loading Data"
   ]
  },
  {
   "cell_type": "code",
   "execution_count": 41,
   "metadata": {
    "colab": {},
    "colab_type": "code",
    "id": "dA1jknyqb3c_"
   },
   "outputs": [],
   "source": [
    "import pandas as pd\n",
    "data  = pd.read_csv('preprocessed_data.csv', nrows=50000)\n",
    "y = data['project_is_approved'].values\n",
    "X = data.drop(['project_is_approved'], axis=1)"
   ]
  },
  {
   "cell_type": "markdown",
   "metadata": {
    "colab_type": "text",
    "id": "WtVV13Fyb3dH"
   },
   "source": [
    "<h2>1.2 Splitting data into Train and cross validation(or test): Stratified Sampling</h2>"
   ]
  },
  {
   "cell_type": "code",
   "execution_count": 42,
   "metadata": {
    "colab": {},
    "colab_type": "code",
    "id": "i-PyprDNb3dI"
   },
   "outputs": [],
   "source": [
    "# please write all the code with proper documentation, and proper titles for each subsection\n",
    "# go through documentations and blogs before you start coding\n",
    "# first figure out what to do, and then think about how to do.\n",
    "# reading and understanding error messages will be very much helpfull in debugging your code\n",
    "# when you plot any graph make sure you use \n",
    "    # a. Title, that describes your plot, this will be very helpful to the reader\n",
    "    # b. Legends if needed\n",
    "    # c. X-axis label\n",
    "    # d. Y-axis label\n",
    "from sklearn.model_selection import train_test_split\n",
    "X_train, X_test, y_train, y_test = train_test_split(X, y, test_size=0.33, stratify=y)\n",
    "X_train, X_cv, y_train, y_cv = train_test_split(X_train, y_train, test_size=0.33, stratify=y_train)"
   ]
  },
  {
   "cell_type": "markdown",
   "metadata": {
    "colab_type": "text",
    "id": "EnZwVNULb3dO"
   },
   "source": [
    "<h2>1.3 Make Data Model Ready: encoding eassay, and project_title</h2>"
   ]
  },
  {
   "cell_type": "code",
   "execution_count": 43,
   "metadata": {
    "colab": {},
    "colab_type": "code",
    "id": "-SczZKiab3dR"
   },
   "outputs": [],
   "source": [
    "vectorizer = CountVectorizer(min_df=10,ngram_range=(1,3), max_features=7000)\n",
    "vectorizer.fit(X_train['essay'].values) # fit has to happen only on train data\n",
    "# we use the fitted CountVectorizer to convert the text to vector\n",
    "#print(X_train['essay'].head(5),X_train.shape)\n",
    "l=[]\n",
    "l.extend(vectorizer.get_feature_names())\n",
    "X_train_essay_bow = vectorizer.transform(X_train['essay'].values)\n",
    "X_cv_essay_bow = vectorizer.transform(X_cv['essay'].values)\n",
    "X_test_essay_bow = vectorizer.transform(X_test['essay'].values)\n",
    "#print(X_train_essay_bow.shape)\n",
    "tfl=[]\n",
    "vectorizer = TfidfVectorizer(min_df=10,max_features=7000)\n",
    "vectorizer.fit(X_train['essay'].values)# fit has to happen only on train data\n",
    "tfl.extend(vectorizer.get_feature_names())\n",
    "\n",
    "X_train_essay_tfidf = vectorizer.transform(X_train['essay'].values)\n",
    "X_cv_essay_tfidf = vectorizer.transform(X_cv['essay'].values)\n",
    "X_test_essay_tfidf = vectorizer.transform(X_test['essay'].values)\n",
    "\n",
    "\n",
    "\n",
    "\n"
   ]
  },
  {
   "cell_type": "code",
   "execution_count": 44,
   "metadata": {},
   "outputs": [
    {
     "name": "stdout",
     "output_type": "stream",
     "text": [
      "Index(['school_state', 'teacher_prefix', 'project_grade_category',\n",
      "       'teacher_number_of_previously_posted_projects', 'clean_categories',\n",
      "       'clean_subcategories', 'essay', 'price'],\n",
      "      dtype='object')\n"
     ]
    }
   ],
   "source": [
    "print(X_train.columns)"
   ]
  },
  {
   "cell_type": "markdown",
   "metadata": {
    "colab_type": "text",
    "id": "bGy86kgHb3dX"
   },
   "source": [
    "<h2>1.4 Make Data Model Ready: encoding numerical, categorical features</h2>"
   ]
  },
  {
   "cell_type": "code",
   "execution_count": 45,
   "metadata": {
    "colab": {},
    "colab_type": "code",
    "id": "EfXkofX1b3da"
   },
   "outputs": [],
   "source": [
    "vectorizer = CountVectorizer(binary=True)\n",
    "vectorizer.fit(X_train['school_state'].values) # fit has to happen only on train data\n",
    "l.extend(vectorizer.get_feature_names())\n",
    "tfl.extend(vectorizer.get_feature_names())\n",
    "\n",
    "\n",
    "# we use the fitted CountVectorizer to convert the text to vector\n",
    "X_train_state_ohe = vectorizer.transform(X_train['school_state'].values)\n",
    "X_cv_state_ohe = vectorizer.transform(X_cv['school_state'].values)\n",
    "X_test_state_ohe = vectorizer.transform(X_test['school_state'].values)\n",
    "\n",
    "vectorizer = CountVectorizer()\n",
    "vectorizer.fit(X_train['teacher_prefix'].values) # fit has to happen only on train data\n",
    "l.extend(vectorizer.get_feature_names())\n",
    "tfl.extend(vectorizer.get_feature_names())\n",
    "\n",
    "# we use the fitted CountVectorizer to convert the text to vector\n",
    "X_train_teacher_ohe = vectorizer.transform(X_train['teacher_prefix'].values)\n",
    "X_cv_teacher_ohe = vectorizer.transform(X_cv['teacher_prefix'].values)\n",
    "X_test_teacher_ohe = vectorizer.transform(X_test['teacher_prefix'].values)\n",
    "l.extend(vectorizer.get_feature_names())\n",
    "tfl.extend(vectorizer.get_feature_names())\n",
    "\n",
    "\n",
    "vectorizer = CountVectorizer()\n",
    "vectorizer.fit(X_train['project_grade_category'].values) # fit has to happen only on train data\n",
    "l.extend(vectorizer.get_feature_names())\n",
    "\n",
    "\n",
    "\n",
    "# we use the fitted CountVectorizer to convert the text to vector\n",
    "X_train_grade_ohe = vectorizer.transform(X_train['project_grade_category'].values)\n",
    "X_cv_grade_ohe = vectorizer.transform(X_cv['project_grade_category'].values)\n",
    "X_test_grade_ohe = vectorizer.transform(X_test['project_grade_category'].values)\n",
    "\n",
    "\n",
    "vectorizer = CountVectorizer()\n",
    "vectorizer.fit(X_train['clean_categories'].values) # fit has to happen only on train data\n",
    "l.extend(vectorizer.get_feature_names())\n",
    "tfl.extend(vectorizer.get_feature_names())\n",
    "\n",
    "\n",
    "\n",
    "\n",
    "\n",
    "# we use the fitted CountVectorizer to convert the text to vector\n",
    "X_train_cleancat_ohe = vectorizer.transform(X_train['clean_categories'].values)\n",
    "X_cv_cleancat_ohe = vectorizer.transform(X_cv['clean_categories'].values)\n",
    "X_test_cleancat_ohe = vectorizer.transform(X_test['clean_categories'].values)\n",
    "vectorizer = CountVectorizer()\n",
    "vectorizer.fit(X_train['clean_subcategories'].values) # fit has to happen only on train data\n",
    "l.extend(vectorizer.get_feature_names())\n",
    "tfl.extend(vectorizer.get_feature_names())\n",
    "\n",
    "\n",
    "# we use the fitted CountVectorizer to convert the text to vector\n",
    "X_train_cleansubcat_ohe = vectorizer.transform(X_train['clean_subcategories'].values)\n",
    "X_cv_cleansubcat_ohe = vectorizer.transform(X_cv['clean_subcategories'].values)\n",
    "X_test_cleansubcat_ohe = vectorizer.transform(X_test['clean_subcategories'].values)\n",
    "\n",
    "\n",
    "\n"
   ]
  },
  {
   "cell_type": "code",
   "execution_count": 46,
   "metadata": {},
   "outputs": [],
   "source": [
    "from sklearn.preprocessing import Normalizer\n",
    "normalizer = Normalizer()\n",
    "normalizer.fit(X_train['price'].values.reshape(1,-1))\n",
    "l.append('price')\n",
    "tfl.append('price')\n",
    "\n",
    "\n",
    "X_train_price_norm = normalizer.transform(X_train['price'].values.reshape(1,-1)).T\n",
    "X_cv_price_norm = normalizer.transform(X_cv['price'].values.reshape(1,-1)).T\n",
    "X_test_price_norm = normalizer.transform(X_test['price'].values.reshape(1,-1)).T\n",
    "\n",
    "normalizer.fit(X_train['teacher_number_of_previously_posted_projects'].values.reshape(1,-1))\n",
    "l.append('teacher_number_of_previously_posted_projects')\n",
    "tfl.append('teacher_number_of_previously_posted_projects')\n",
    "\n",
    "\n",
    "X_train_tn_norm = normalizer.transform(X_train['teacher_number_of_previously_posted_projects'].values.reshape(1,-1)).T\n",
    "X_cv_tn_norm = normalizer.transform(X_cv['teacher_number_of_previously_posted_projects'].values.reshape(1,-1)).T\n",
    "X_test_tn_norm = normalizer.transform(X_test['teacher_number_of_previously_posted_projects'].values.reshape(1,-1)).T\n",
    "\n"
   ]
  },
  {
   "cell_type": "code",
   "execution_count": 36,
   "metadata": {},
   "outputs": [
    {
     "name": "stdout",
     "output_type": "stream",
     "text": [
      "(22445,) (11055,)\n",
      "(33500,) (33500, 7101)\n",
      "7106\n"
     ]
    }
   ],
   "source": [
    "from scipy.sparse import hstack\n",
    "from scipy.sparse import vstack\n",
    "\n",
    "X_tr = hstack((X_train_essay_bow, X_train_state_ohe, X_train_teacher_ohe, X_train_grade_ohe, X_train_price_norm,X_train_cleancat_ohe,X_train_cleansubcat_ohe,X_train_tn_norm)).tocsr()\n",
    "X_cv = hstack((X_cv_essay_bow, X_cv_state_ohe, X_cv_teacher_ohe, X_cv_grade_ohe, X_cv_price_norm,X_cv_cleancat_ohe,X_cv_cleansubcat_ohe,X_cv_tn_norm)).tocsr()\n",
    "X_te = hstack((X_test_essay_bow, X_test_state_ohe, X_test_teacher_ohe, X_test_grade_ohe, X_test_price_norm,X_test_cleancat_ohe,X_test_cleansubcat_ohe,X_test_tn_norm)).tocsr()\n",
    "print(y_train.shape,y_cv.shape)\n",
    "X_tr=vstack((X_tr,X_cv))\n",
    "y_train=np.concatenate((y_train,y_cv))\n",
    "print(y_train.shape,X_tr.shape)\n",
    "print(len(l))"
   ]
  },
  {
   "cell_type": "markdown",
   "metadata": {
    "colab_type": "text",
    "id": "yYHPYadYb3dh"
   },
   "source": [
    "<h2>1.5 Appling NB on different kind of featurization as mentioned in the instructions</h2>\n",
    "\n",
    "<br>Apply NB on different kind of featurization as mentioned in the instructions\n",
    "<br> For Every model that you work on make sure you do the step 2 and step 3 of instrucations"
   ]
  },
  {
   "cell_type": "code",
   "execution_count": 37,
   "metadata": {},
   "outputs": [
    {
     "name": "stdout",
     "output_type": "stream",
     "text": [
      "{'alpha': 1e-05}\n"
     ]
    },
    {
     "data": {
      "image/png": "[encoded data removed]",
      "text/plain": [
       "<Figure size 432x288 with 1 Axes>"
      ]
     },
     "metadata": {
      "needs_background": "light"
     },
     "output_type": "display_data"
    },
    {
     "data": {
      "text/html": [
       "<div>\n",
       "<style scoped>\n",
       "    .dataframe tbody tr th:only-of-type {\n",
       "        vertical-align: middle;\n",
       "    }\n",
       "\n",
       "    .dataframe tbody tr th {\n",
       "        vertical-align: top;\n",
       "    }\n",
       "\n",
       "    .dataframe thead th {\n",
       "        text-align: right;\n",
       "    }\n",
       "</style>\n",
       "<table border=\"1\" class=\"dataframe\">\n",
       "  <thead>\n",
       "    <tr style=\"text-align: right;\">\n",
       "      <th></th>\n",
       "      <th>mean_fit_time</th>\n",
       "      <th>std_fit_time</th>\n",
       "      <th>mean_score_time</th>\n",
       "      <th>std_score_time</th>\n",
       "      <th>param_alpha</th>\n",
       "      <th>params</th>\n",
       "      <th>split0_test_score</th>\n",
       "      <th>split1_test_score</th>\n",
       "      <th>split2_test_score</th>\n",
       "      <th>split3_test_score</th>\n",
       "      <th>...</th>\n",
       "      <th>mean_test_score</th>\n",
       "      <th>std_test_score</th>\n",
       "      <th>rank_test_score</th>\n",
       "      <th>split0_train_score</th>\n",
       "      <th>split1_train_score</th>\n",
       "      <th>split2_train_score</th>\n",
       "      <th>split3_train_score</th>\n",
       "      <th>split4_train_score</th>\n",
       "      <th>mean_train_score</th>\n",
       "      <th>std_train_score</th>\n",
       "    </tr>\n",
       "  </thead>\n",
       "  <tbody>\n",
       "    <tr>\n",
       "      <th>0</th>\n",
       "      <td>0.122890</td>\n",
       "      <td>0.012319</td>\n",
       "      <td>0.019580</td>\n",
       "      <td>0.002492</td>\n",
       "      <td>1e-05</td>\n",
       "      <td>{'alpha': 1e-05}</td>\n",
       "      <td>0.695306</td>\n",
       "      <td>0.708164</td>\n",
       "      <td>0.691951</td>\n",
       "      <td>0.699427</td>\n",
       "      <td>...</td>\n",
       "      <td>0.696018</td>\n",
       "      <td>0.007645</td>\n",
       "      <td>1</td>\n",
       "      <td>0.761834</td>\n",
       "      <td>0.761565</td>\n",
       "      <td>0.761534</td>\n",
       "      <td>0.763395</td>\n",
       "      <td>0.765957</td>\n",
       "      <td>0.762857</td>\n",
       "      <td>0.001695</td>\n",
       "    </tr>\n",
       "    <tr>\n",
       "      <th>2</th>\n",
       "      <td>0.117702</td>\n",
       "      <td>0.000622</td>\n",
       "      <td>0.017149</td>\n",
       "      <td>0.000741</td>\n",
       "      <td>0.0001</td>\n",
       "      <td>{'alpha': 0.0001}</td>\n",
       "      <td>0.695295</td>\n",
       "      <td>0.708112</td>\n",
       "      <td>0.691977</td>\n",
       "      <td>0.699397</td>\n",
       "      <td>...</td>\n",
       "      <td>0.696002</td>\n",
       "      <td>0.007628</td>\n",
       "      <td>2</td>\n",
       "      <td>0.761807</td>\n",
       "      <td>0.761546</td>\n",
       "      <td>0.761506</td>\n",
       "      <td>0.763366</td>\n",
       "      <td>0.765932</td>\n",
       "      <td>0.762832</td>\n",
       "      <td>0.001695</td>\n",
       "    </tr>\n",
       "    <tr>\n",
       "      <th>1</th>\n",
       "      <td>0.120566</td>\n",
       "      <td>0.001661</td>\n",
       "      <td>0.018283</td>\n",
       "      <td>0.002824</td>\n",
       "      <td>0.0005</td>\n",
       "      <td>{'alpha': 0.0005}</td>\n",
       "      <td>0.695283</td>\n",
       "      <td>0.708071</td>\n",
       "      <td>0.691995</td>\n",
       "      <td>0.699353</td>\n",
       "      <td>...</td>\n",
       "      <td>0.695983</td>\n",
       "      <td>0.007614</td>\n",
       "      <td>3</td>\n",
       "      <td>0.761780</td>\n",
       "      <td>0.761528</td>\n",
       "      <td>0.761479</td>\n",
       "      <td>0.763338</td>\n",
       "      <td>0.765909</td>\n",
       "      <td>0.762807</td>\n",
       "      <td>0.001695</td>\n",
       "    </tr>\n",
       "    <tr>\n",
       "      <th>4</th>\n",
       "      <td>0.118918</td>\n",
       "      <td>0.001912</td>\n",
       "      <td>0.016761</td>\n",
       "      <td>0.000403</td>\n",
       "      <td>0.001</td>\n",
       "      <td>{'alpha': 0.001}</td>\n",
       "      <td>0.695280</td>\n",
       "      <td>0.708051</td>\n",
       "      <td>0.691996</td>\n",
       "      <td>0.699329</td>\n",
       "      <td>...</td>\n",
       "      <td>0.695972</td>\n",
       "      <td>0.007607</td>\n",
       "      <td>4</td>\n",
       "      <td>0.761768</td>\n",
       "      <td>0.761518</td>\n",
       "      <td>0.761465</td>\n",
       "      <td>0.763323</td>\n",
       "      <td>0.765896</td>\n",
       "      <td>0.762794</td>\n",
       "      <td>0.001694</td>\n",
       "    </tr>\n",
       "    <tr>\n",
       "      <th>3</th>\n",
       "      <td>0.103294</td>\n",
       "      <td>0.017413</td>\n",
       "      <td>0.014583</td>\n",
       "      <td>0.002230</td>\n",
       "      <td>0.005</td>\n",
       "      <td>{'alpha': 0.005}</td>\n",
       "      <td>0.695260</td>\n",
       "      <td>0.707996</td>\n",
       "      <td>0.691993</td>\n",
       "      <td>0.699266</td>\n",
       "      <td>...</td>\n",
       "      <td>0.695940</td>\n",
       "      <td>0.007591</td>\n",
       "      <td>5</td>\n",
       "      <td>0.761726</td>\n",
       "      <td>0.761485</td>\n",
       "      <td>0.761422</td>\n",
       "      <td>0.763278</td>\n",
       "      <td>0.765857</td>\n",
       "      <td>0.762754</td>\n",
       "      <td>0.001694</td>\n",
       "    </tr>\n",
       "  </tbody>\n",
       "</table>\n",
       "<p>5 rows × 21 columns</p>\n",
       "</div>"
      ],
      "text/plain": [
       "   mean_fit_time  std_fit_time  mean_score_time  std_score_time param_alpha  \\\n",
       "0       0.122890      0.012319         0.019580        0.002492       1e-05   \n",
       "2       0.117702      0.000622         0.017149        0.000741      0.0001   \n",
       "1       0.120566      0.001661         0.018283        0.002824      0.0005   \n",
       "4       0.118918      0.001912         0.016761        0.000403       0.001   \n",
       "3       0.103294      0.017413         0.014583        0.002230       0.005   \n",
       "\n",
       "              params  split0_test_score  split1_test_score  split2_test_score  \\\n",
       "0   {'alpha': 1e-05}           0.695306           0.708164           0.691951   \n",
       "2  {'alpha': 0.0001}           0.695295           0.708112           0.691977   \n",
       "1  {'alpha': 0.0005}           0.695283           0.708071           0.691995   \n",
       "4   {'alpha': 0.001}           0.695280           0.708051           0.691996   \n",
       "3   {'alpha': 0.005}           0.695260           0.707996           0.691993   \n",
       "\n",
       "   split3_test_score  ...  mean_test_score  std_test_score  rank_test_score  \\\n",
       "0           0.699427  ...         0.696018        0.007645                1   \n",
       "2           0.699397  ...         0.696002        0.007628                2   \n",
       "1           0.699353  ...         0.695983        0.007614                3   \n",
       "4           0.699329  ...         0.695972        0.007607                4   \n",
       "3           0.699266  ...         0.695940        0.007591                5   \n",
       "\n",
       "   split0_train_score  split1_train_score  split2_train_score  \\\n",
       "0            0.761834            0.761565            0.761534   \n",
       "2            0.761807            0.761546            0.761506   \n",
       "1            0.761780            0.761528            0.761479   \n",
       "4            0.761768            0.761518            0.761465   \n",
       "3            0.761726            0.761485            0.761422   \n",
       "\n",
       "   split3_train_score  split4_train_score  mean_train_score  std_train_score  \n",
       "0            0.763395            0.765957          0.762857         0.001695  \n",
       "2            0.763366            0.765932          0.762832         0.001695  \n",
       "1            0.763338            0.765909          0.762807         0.001695  \n",
       "4            0.763323            0.765896          0.762794         0.001694  \n",
       "3            0.763278            0.765857          0.762754         0.001694  \n",
       "\n",
       "[5 rows x 21 columns]"
      ]
     },
     "execution_count": 37,
     "metadata": {},
     "output_type": "execute_result"
    }
   ],
   "source": [
    "from sklearn.calibration import CalibratedClassifierCV\n",
    "\n",
    "from sklearn.model_selection import GridSearchCV\n",
    "from scipy.stats import randint as sp_randint\n",
    "from sklearn.model_selection import RandomizedSearchCV\n",
    "from sklearn.naive_bayes import MultinomialNB\n",
    "neigh = MultinomialNB( class_prior = [0.5, 0.5] )\n",
    "parameters = {'alpha':[0.00001,0.0005, 0.0001,0.005,0.001,0.05,0.01,0.1,0.5,1,5,10,50,100]}\n",
    "clf = GridSearchCV(neigh, parameters, cv=5, scoring='roc_auc',return_train_score=True)\n",
    "clf.fit(X_tr, y_train)\n",
    "\n",
    "\n",
    "\n",
    "results = pd.DataFrame.from_dict(clf.cv_results_)\n",
    "print(clf.best_params_)\n",
    "best_alpha=(clf.best_params_['alpha'])\n",
    "results = results.sort_values(['param_alpha'])\n",
    "\n",
    "train_auc= results['mean_train_score']\n",
    "train_auc_std= results['std_train_score']\n",
    "cv_auc = results['mean_test_score'] \n",
    "cv_auc_std= results['std_test_score']\n",
    "alpha =  results['param_alpha']\n",
    "log_alpha=np.log(list(alpha))\n",
    "plt.plot(log_alpha, train_auc, label='Train AUC')\n",
    "# this code is copied from here: https://stackoverflow.com/a/48803361/4084039\n",
    "# plt.gca().fill_between(K, train_auc - train_auc_std,train_auc + train_auc_std,alpha=0.2,color='darkblue')\n",
    "\n",
    "plt.plot(log_alpha, cv_auc, label='CV AUC')\n",
    "# this code is copied from here: https://stackoverflow.com/a/48803361/4084039\n",
    "# plt.gca().fill_between(K, cv_auc - cv_auc_std,cv_auc + cv_auc_std,alpha=0.2,color='darkorange')\n",
    "\n",
    "plt.scatter(log_alpha, train_auc, label='Train AUC points')\n",
    "plt.scatter(log_alpha, cv_auc, label='CV AUC points')\n",
    "\n",
    "plt.legend()\n",
    "plt.xlabel(\"Alpha: hyperparameter\")\n",
    "plt.ylabel(\"AUC\")\n",
    "plt.title(\"Hyper parameter Vs AUC plot\")\n",
    "plt.grid()\n",
    "plt.show()\n",
    "\n",
    "results.head()\n",
    "\n"
   ]
  },
  {
   "cell_type": "code",
   "execution_count": 38,
   "metadata": {},
   "outputs": [
    {
     "name": "stdout",
     "output_type": "stream",
     "text": [
      "(33500, 7101) (33500,)\n"
     ]
    },
    {
     "data": {
      "image/png": "[encoded data removed]",
      "text/plain": [
       "<Figure size 432x288 with 1 Axes>"
      ]
     },
     "metadata": {
      "needs_background": "light"
     },
     "output_type": "display_data"
    },
    {
     "name": "stdout",
     "output_type": "stream",
     "text": [
      "IMPORTANT FEATURES:\n",
      "students\n",
      "school\n",
      "learning\n",
      "my\n",
      "classroom\n",
      "not\n",
      "learn\n",
      "help\n",
      "they\n",
      "the\n",
      "my students\n",
      "nannan\n",
      "many\n",
      "we\n",
      "need\n",
      "work\n",
      "come\n",
      "year\n",
      "able\n",
      "love\n"
     ]
    }
   ],
   "source": [
    "from sklearn.metrics import roc_curve, auc\n",
    "\n",
    "\n",
    "nb = MultinomialNB(alpha=best_alpha,class_prior=[0.5,0.5])\n",
    "print(X_tr.shape,y_train.shape)\n",
    "nb.fit(X_tr, y_train)\n",
    "# roc_auc_score(y_true, y_score) the 2nd parameter should be probability estimates of the positive class\n",
    "# not the predicted outputs\n",
    "\n",
    "y_train_pred = nb.predict_log_proba(X_tr)[:, 1]    \n",
    "y_test_pred = nb.predict_log_proba(X_te)[:, 1]\n",
    "\n",
    "train_fpr, train_tpr, tr_thresholds = roc_curve(y_train, y_train_pred)\n",
    "test_fpr, test_tpr, te_thresholds = roc_curve(y_test, y_test_pred)\n",
    "\n",
    "plt.plot(train_fpr, train_tpr, label=\"train AUC =\"+str(auc(train_fpr, train_tpr)))\n",
    "plt.plot(test_fpr, test_tpr, label=\"test AUC =\"+str(auc(test_fpr, test_tpr)))\n",
    "plt.legend()\n",
    "plt.xlabel(\"alpha: hyperparameter\")\n",
    "plt.ylabel(\"AUC\")\n",
    "plt.title(\"ERROR PLOTS\")\n",
    "plt.grid()\n",
    "plt.show()\n",
    "\n",
    "\n",
    "\n",
    "\n",
    "class0_prob=nb.feature_log_prob_[0]\n",
    "class1_prob=nb.feature_log_prob_[1]\n",
    "class0_index=np.argsort(class0_prob)[::-1]\n",
    "class1_index=np.argsort(class1_prob)[::-1]\n",
    "print(\"IMPORTANT FEATURES:\")\n",
    "for i in range(0,20):\n",
    "    j=class0_index[i]\n",
    "    print(l[j])\n"
   ]
  },
  {
   "cell_type": "code",
   "execution_count": 39,
   "metadata": {},
   "outputs": [
    {
     "data": {
      "text/plain": [
       "<matplotlib.axes._subplots.AxesSubplot at 0x250ee150388>"
      ]
     },
     "execution_count": 39,
     "metadata": {},
     "output_type": "execute_result"
    },
    {
     "data": {
      "image/png": "[encoded data removed]",
      "text/plain": [
       "<Figure size 432x288 with 2 Axes>"
      ]
     },
     "metadata": {
      "needs_background": "light"
     },
     "output_type": "display_data"
    },
    {
     "data": {
      "image/png": "[encoded data removed]",
      "text/plain": [
       "<Figure size 432x288 with 2 Axes>"
      ]
     },
     "metadata": {
      "needs_background": "light"
     },
     "output_type": "display_data"
    }
   ],
   "source": [
    "def predict_with_best_t(proba, threshould):\n",
    "    predictions = []\n",
    "    for i in proba:\n",
    "        if i>=threshould:\n",
    "            predictions.append(1)\n",
    "        else:\n",
    "            predictions.append(0)\n",
    "    return predictions\n",
    "def find_best_threshold(threshould, fpr, tpr):\n",
    "    t = threshould[np.argmax(tpr*(1-fpr))]\n",
    "    return t\n",
    "\n",
    "from sklearn.metrics import confusion_matrix\n",
    "best_t = find_best_threshold(tr_thresholds, train_fpr, train_tpr)\n",
    "\n",
    "train_cmatrix=confusion_matrix(y_train, predict_with_best_t(y_train_pred, best_t))\n",
    "test_cmatrix=confusion_matrix(y_test, predict_with_best_t(y_test_pred, best_t))\n",
    "\n",
    "import seaborn as sns\n",
    "import matplotlib.pyplot as plt     \n",
    "\n",
    "sns.heatmap(train_cmatrix, annot=True,fmt=\"d\",cmap='Blues')\n",
    "plt.figure(2)\n",
    "sns.heatmap(test_cmatrix, annot=True,fmt=\"d\",cmap='Blues')\n"
   ]
  },
  {
   "cell_type": "code",
   "execution_count": 47,
   "metadata": {},
   "outputs": [
    {
     "name": "stdout",
     "output_type": "stream",
     "text": [
      "(22445,) (11055,)\n",
      "(33500,) (33500, 7101)\n",
      "7106\n"
     ]
    }
   ],
   "source": [
    "from scipy.sparse import hstack\n",
    "from scipy.sparse import vstack\n",
    "\n",
    "X_tr = hstack((X_train_essay_tfidf, X_train_state_ohe, X_train_teacher_ohe, X_train_grade_ohe, X_train_price_norm,X_train_cleancat_ohe,X_train_cleansubcat_ohe,X_train_tn_norm)).tocsr()\n",
    "X_cv = hstack((X_cv_essay_tfidf, X_cv_state_ohe, X_cv_teacher_ohe, X_cv_grade_ohe, X_cv_price_norm,X_cv_cleancat_ohe,X_cv_cleansubcat_ohe,X_cv_tn_norm)).tocsr()\n",
    "X_te = hstack((X_test_essay_tfidf, X_test_state_ohe, X_test_teacher_ohe, X_test_grade_ohe, X_test_price_norm,X_test_cleancat_ohe,X_test_cleansubcat_ohe,X_test_tn_norm)).tocsr()\n",
    "print(y_train.shape,y_cv.shape)\n",
    "X_tr=vstack((X_tr,X_cv))\n",
    "y_train=np.concatenate((y_train,y_cv))\n",
    "print(y_train.shape,X_tr.shape)\n",
    "print(len(l))"
   ]
  },
  {
   "cell_type": "code",
   "execution_count": 48,
   "metadata": {},
   "outputs": [
    {
     "data": {
      "image/png": "[encoded data removed]",
      "text/plain": [
       "<Figure size 432x288 with 1 Axes>"
      ]
     },
     "metadata": {
      "needs_background": "light"
     },
     "output_type": "display_data"
    },
    {
     "data": {
      "text/html": [
       "<div>\n",
       "<style scoped>\n",
       "    .dataframe tbody tr th:only-of-type {\n",
       "        vertical-align: middle;\n",
       "    }\n",
       "\n",
       "    .dataframe tbody tr th {\n",
       "        vertical-align: top;\n",
       "    }\n",
       "\n",
       "    .dataframe thead th {\n",
       "        text-align: right;\n",
       "    }\n",
       "</style>\n",
       "<table border=\"1\" class=\"dataframe\">\n",
       "  <thead>\n",
       "    <tr style=\"text-align: right;\">\n",
       "      <th></th>\n",
       "      <th>mean_fit_time</th>\n",
       "      <th>std_fit_time</th>\n",
       "      <th>mean_score_time</th>\n",
       "      <th>std_score_time</th>\n",
       "      <th>param_alpha</th>\n",
       "      <th>params</th>\n",
       "      <th>split0_test_score</th>\n",
       "      <th>split1_test_score</th>\n",
       "      <th>split2_test_score</th>\n",
       "      <th>split3_test_score</th>\n",
       "      <th>...</th>\n",
       "      <th>std_test_score</th>\n",
       "      <th>rank_test_score</th>\n",
       "      <th>split0_train_score</th>\n",
       "      <th>split1_train_score</th>\n",
       "      <th>split2_train_score</th>\n",
       "      <th>split3_train_score</th>\n",
       "      <th>split4_train_score</th>\n",
       "      <th>split5_train_score</th>\n",
       "      <th>mean_train_score</th>\n",
       "      <th>std_train_score</th>\n",
       "    </tr>\n",
       "  </thead>\n",
       "  <tbody>\n",
       "    <tr>\n",
       "      <th>0</th>\n",
       "      <td>0.101994</td>\n",
       "      <td>0.003020</td>\n",
       "      <td>0.014425</td>\n",
       "      <td>0.000826</td>\n",
       "      <td>1e-05</td>\n",
       "      <td>{'alpha': 1e-05}</td>\n",
       "      <td>0.674214</td>\n",
       "      <td>0.666026</td>\n",
       "      <td>0.655600</td>\n",
       "      <td>0.661371</td>\n",
       "      <td>...</td>\n",
       "      <td>0.005980</td>\n",
       "      <td>8</td>\n",
       "      <td>0.784372</td>\n",
       "      <td>0.787368</td>\n",
       "      <td>0.787119</td>\n",
       "      <td>0.790248</td>\n",
       "      <td>0.784664</td>\n",
       "      <td>0.786325</td>\n",
       "      <td>0.786683</td>\n",
       "      <td>0.001954</td>\n",
       "    </tr>\n",
       "    <tr>\n",
       "      <th>2</th>\n",
       "      <td>0.126060</td>\n",
       "      <td>0.027255</td>\n",
       "      <td>0.015239</td>\n",
       "      <td>0.004130</td>\n",
       "      <td>0.0001</td>\n",
       "      <td>{'alpha': 0.0001}</td>\n",
       "      <td>0.675936</td>\n",
       "      <td>0.667249</td>\n",
       "      <td>0.657079</td>\n",
       "      <td>0.663507</td>\n",
       "      <td>...</td>\n",
       "      <td>0.005903</td>\n",
       "      <td>7</td>\n",
       "      <td>0.783727</td>\n",
       "      <td>0.786670</td>\n",
       "      <td>0.786359</td>\n",
       "      <td>0.789618</td>\n",
       "      <td>0.784052</td>\n",
       "      <td>0.785704</td>\n",
       "      <td>0.786022</td>\n",
       "      <td>0.001946</td>\n",
       "    </tr>\n",
       "    <tr>\n",
       "      <th>1</th>\n",
       "      <td>0.103588</td>\n",
       "      <td>0.005027</td>\n",
       "      <td>0.014030</td>\n",
       "      <td>0.002371</td>\n",
       "      <td>0.0005</td>\n",
       "      <td>{'alpha': 0.0005}</td>\n",
       "      <td>0.677485</td>\n",
       "      <td>0.668370</td>\n",
       "      <td>0.658325</td>\n",
       "      <td>0.665134</td>\n",
       "      <td>...</td>\n",
       "      <td>0.005903</td>\n",
       "      <td>6</td>\n",
       "      <td>0.782922</td>\n",
       "      <td>0.785811</td>\n",
       "      <td>0.785486</td>\n",
       "      <td>0.788830</td>\n",
       "      <td>0.783273</td>\n",
       "      <td>0.784959</td>\n",
       "      <td>0.785214</td>\n",
       "      <td>0.001940</td>\n",
       "    </tr>\n",
       "    <tr>\n",
       "      <th>4</th>\n",
       "      <td>0.134090</td>\n",
       "      <td>0.044297</td>\n",
       "      <td>0.017094</td>\n",
       "      <td>0.006555</td>\n",
       "      <td>0.001</td>\n",
       "      <td>{'alpha': 0.001}</td>\n",
       "      <td>0.678218</td>\n",
       "      <td>0.668879</td>\n",
       "      <td>0.658886</td>\n",
       "      <td>0.665767</td>\n",
       "      <td>...</td>\n",
       "      <td>0.005929</td>\n",
       "      <td>5</td>\n",
       "      <td>0.782431</td>\n",
       "      <td>0.785291</td>\n",
       "      <td>0.784964</td>\n",
       "      <td>0.788351</td>\n",
       "      <td>0.782792</td>\n",
       "      <td>0.784507</td>\n",
       "      <td>0.784723</td>\n",
       "      <td>0.001940</td>\n",
       "    </tr>\n",
       "    <tr>\n",
       "      <th>3</th>\n",
       "      <td>0.102060</td>\n",
       "      <td>0.005718</td>\n",
       "      <td>0.015817</td>\n",
       "      <td>0.001196</td>\n",
       "      <td>0.005</td>\n",
       "      <td>{'alpha': 0.005}</td>\n",
       "      <td>0.679825</td>\n",
       "      <td>0.670163</td>\n",
       "      <td>0.660010</td>\n",
       "      <td>0.667286</td>\n",
       "      <td>...</td>\n",
       "      <td>0.006013</td>\n",
       "      <td>3</td>\n",
       "      <td>0.780671</td>\n",
       "      <td>0.783451</td>\n",
       "      <td>0.783148</td>\n",
       "      <td>0.786605</td>\n",
       "      <td>0.781063</td>\n",
       "      <td>0.782895</td>\n",
       "      <td>0.782972</td>\n",
       "      <td>0.001932</td>\n",
       "    </tr>\n",
       "  </tbody>\n",
       "</table>\n",
       "<p>5 rows × 23 columns</p>\n",
       "</div>"
      ],
      "text/plain": [
       "   mean_fit_time  std_fit_time  mean_score_time  std_score_time param_alpha  \\\n",
       "0       0.101994      0.003020         0.014425        0.000826       1e-05   \n",
       "2       0.126060      0.027255         0.015239        0.004130      0.0001   \n",
       "1       0.103588      0.005027         0.014030        0.002371      0.0005   \n",
       "4       0.134090      0.044297         0.017094        0.006555       0.001   \n",
       "3       0.102060      0.005718         0.015817        0.001196       0.005   \n",
       "\n",
       "              params  split0_test_score  split1_test_score  split2_test_score  \\\n",
       "0   {'alpha': 1e-05}           0.674214           0.666026           0.655600   \n",
       "2  {'alpha': 0.0001}           0.675936           0.667249           0.657079   \n",
       "1  {'alpha': 0.0005}           0.677485           0.668370           0.658325   \n",
       "4   {'alpha': 0.001}           0.678218           0.668879           0.658886   \n",
       "3   {'alpha': 0.005}           0.679825           0.670163           0.660010   \n",
       "\n",
       "   split3_test_score  ...  std_test_score  rank_test_score  \\\n",
       "0           0.661371  ...        0.005980                8   \n",
       "2           0.663507  ...        0.005903                7   \n",
       "1           0.665134  ...        0.005903                6   \n",
       "4           0.665767  ...        0.005929                5   \n",
       "3           0.667286  ...        0.006013                3   \n",
       "\n",
       "   split0_train_score  split1_train_score  split2_train_score  \\\n",
       "0            0.784372            0.787368            0.787119   \n",
       "2            0.783727            0.786670            0.786359   \n",
       "1            0.782922            0.785811            0.785486   \n",
       "4            0.782431            0.785291            0.784964   \n",
       "3            0.780671            0.783451            0.783148   \n",
       "\n",
       "   split3_train_score  split4_train_score  split5_train_score  \\\n",
       "0            0.790248            0.784664            0.786325   \n",
       "2            0.789618            0.784052            0.785704   \n",
       "1            0.788830            0.783273            0.784959   \n",
       "4            0.788351            0.782792            0.784507   \n",
       "3            0.786605            0.781063            0.782895   \n",
       "\n",
       "   mean_train_score  std_train_score  \n",
       "0          0.786683         0.001954  \n",
       "2          0.786022         0.001946  \n",
       "1          0.785214         0.001940  \n",
       "4          0.784723         0.001940  \n",
       "3          0.782972         0.001932  \n",
       "\n",
       "[5 rows x 23 columns]"
      ]
     },
     "execution_count": 48,
     "metadata": {},
     "output_type": "execute_result"
    }
   ],
   "source": [
    "from sklearn.model_selection import GridSearchCV\n",
    "from scipy.stats import randint as sp_randint\n",
    "from sklearn.model_selection import RandomizedSearchCV\n",
    "from sklearn.naive_bayes import MultinomialNB\n",
    "neigh = MultinomialNB( class_prior = [0.5, 0.5] )\n",
    "parameters = {'alpha':[0.00001,0.0005, 0.0001,0.005,0.001,0.05,0.01,0.1,0.5,1,5,10,50,100]}\n",
    "clf = GridSearchCV(neigh, parameters, cv=6, scoring='roc_auc',return_train_score=True)\n",
    "clf.fit(X_tr, y_train)\n",
    "\n",
    "results = pd.DataFrame.from_dict(clf.cv_results_)\n",
    "results = results.sort_values(['param_alpha'])\n",
    "\n",
    "train_auc= results['mean_train_score']\n",
    "train_auc_std= results['std_train_score']\n",
    "cv_auc = results['mean_test_score'] \n",
    "cv_auc_std= results['std_test_score']\n",
    "alpha =  results['param_alpha']\n",
    "log_alpha=np.log(list(alpha))\n",
    "plt.plot(log_alpha, train_auc, label='Train AUC')\n",
    "# this code is copied from here: https://stackoverflow.com/a/48803361/4084039\n",
    "# plt.gca().fill_between(K, train_auc - train_auc_std,train_auc + train_auc_std,alpha=0.2,color='darkblue')\n",
    "\n",
    "plt.plot(log_alpha, cv_auc, label='CV AUC')\n",
    "# this code is copied from here: https://stackoverflow.com/a/48803361/4084039\n",
    "# plt.gca().fill_between(K, cv_auc - cv_auc_std,cv_auc + cv_auc_std,alpha=0.2,color='darkorange')\n",
    "\n",
    "plt.scatter(log_alpha, train_auc, label='Train AUC points')\n",
    "plt.scatter(log_alpha, cv_auc, label='CV AUC points')\n",
    "\n",
    "plt.legend()\n",
    "plt.xlabel(\"Alpha: hyperparameter\")\n",
    "plt.ylabel(\"AUC\")\n",
    "plt.title(\"Hyper parameter Vs AUC plot\")\n",
    "plt.grid()\n",
    "plt.show()\n",
    "\n",
    "results.head()\n",
    "\n"
   ]
  },
  {
   "cell_type": "code",
   "execution_count": 49,
   "metadata": {
    "colab": {},
    "colab_type": "code",
    "id": "DNwqilFxb3di"
   },
   "outputs": [
    {
     "name": "stdout",
     "output_type": "stream",
     "text": [
      "0.01\n"
     ]
    },
    {
     "data": {
      "image/png": "[encoded data removed]",
      "text/plain": [
       "<Figure size 432x288 with 1 Axes>"
      ]
     },
     "metadata": {
      "needs_background": "light"
     },
     "output_type": "display_data"
    },
    {
     "name": "stdout",
     "output_type": "stream",
     "text": [
      "IMPORTANT FEATURES:\n",
      "mrs\n",
      "literacy_language\n",
      "ms\n",
      "math_science\n",
      "ms\n",
      "dr\n",
      "literacy\n",
      "mathematics\n",
      "literature_writing\n",
      "mr\n",
      "health_sports\n",
      "ca\n",
      "students\n",
      "specialneeds\n",
      "specialneeds\n",
      "appliedlearning\n",
      "health_wellness\n",
      "appliedsciences\n",
      "mr\n",
      "tx\n"
     ]
    }
   ],
   "source": [
    "best_alpha=clf.best_params_['alpha']\n",
    "print(best_alpha)\n",
    "from sklearn.metrics import roc_curve, auc\n",
    "from sklearn.calibration import CalibratedClassifierCV\n",
    "\n",
    "\n",
    "\n",
    "nb = MultinomialNB(alpha=best_alpha,class_prior=[0.5,0.5])\n",
    "nb.fit(X_tr, y_train)\n",
    "# roc_auc_score(y_true, y_score) the 2nd parameter should be probability estimates of the positive class\n",
    "# not the predicted outputs\n",
    "nb_clf = CalibratedClassifierCV(nb, method=\"sigmoid\")\n",
    "nb_clf.fit(X_tr, y_train)\n",
    "\n",
    "\n",
    "\n",
    "y_train_pred = nb_clf.predict_proba(X_tr)[:,1]    \n",
    "y_test_pred = nb_clf.predict_proba(X_te)[:,1]\n",
    "\n",
    "train_fpr, train_tpr, tr_thresholds = roc_curve(y_train, y_train_pred)\n",
    "test_fpr, test_tpr, te_thresholds = roc_curve(y_test, y_test_pred)\n",
    "\n",
    "plt.plot(train_fpr, train_tpr, label=\"train AUC =\"+str(auc(train_fpr, train_tpr)))\n",
    "plt.plot(test_fpr, test_tpr, label=\"test AUC =\"+str(auc(test_fpr, test_tpr)))\n",
    "plt.legend()\n",
    "plt.xlabel(\"alpha: hyperparameter\")\n",
    "plt.ylabel(\"AUC\")\n",
    "plt.title(\"ERROR PLOTS\")\n",
    "plt.grid()\n",
    "plt.show()\n",
    "\n",
    "\n",
    "\n",
    "class0_prob=nb.feature_log_prob_[0]\n",
    "class1_prob=nb.feature_log_prob_[1]\n",
    "class0_index=np.argsort(class0_prob)[::-1]\n",
    "class1_index=np.argsort(class1_prob)[::-1]\n",
    "print(\"IMPORTANT FEATURES:\")\n",
    "for i in range(0,20):\n",
    "    j=class0_index[i]\n",
    "    print(tfl[j])\n"
   ]
  },
  {
   "cell_type": "code",
   "execution_count": 50,
   "metadata": {},
   "outputs": [
    {
     "data": {
      "text/plain": [
       "<matplotlib.axes._subplots.AxesSubplot at 0x250ee112308>"
      ]
     },
     "execution_count": 50,
     "metadata": {},
     "output_type": "execute_result"
    },
    {
     "data": {
      "image/png": "[encoded data removed]",
      "text/plain": [
       "<Figure size 432x288 with 2 Axes>"
      ]
     },
     "metadata": {
      "needs_background": "light"
     },
     "output_type": "display_data"
    },
    {
     "data": {
      "image/png": "[encoded data removed]",
      "text/plain": [
       "<Figure size 432x288 with 2 Axes>"
      ]
     },
     "metadata": {
      "needs_background": "light"
     },
     "output_type": "display_data"
    }
   ],
   "source": [
    "def predict_with_best_t(proba, threshould):\n",
    "    predictions = []\n",
    "    for i in proba:\n",
    "        if i>=threshould:\n",
    "            predictions.append(1)\n",
    "        else:\n",
    "            predictions.append(0)\n",
    "    return predictions\n",
    "def find_best_threshold(threshould, fpr, tpr):\n",
    "    t = threshould[np.argmax(tpr*(1-fpr))]\n",
    "    return t\n",
    "\n",
    "from sklearn.metrics import confusion_matrix\n",
    "best_t = find_best_threshold(tr_thresholds, train_fpr, train_tpr)\n",
    "\n",
    "train_cmatrix=confusion_matrix(y_train, predict_with_best_t(y_train_pred, best_t))\n",
    "test_cmatrix=confusion_matrix(y_test, predict_with_best_t(y_test_pred, best_t))\n",
    "\n",
    "import seaborn as sns\n",
    "import matplotlib.pyplot as plt     \n",
    "\n",
    "sns.heatmap(train_cmatrix, annot=True,fmt=\"d\",cmap='Blues')\n",
    "plt.figure(2)\n",
    "sns.heatmap(test_cmatrix, annot=True,fmt=\"d\",cmap='Blues')\n"
   ]
  },
  {
   "cell_type": "markdown",
   "metadata": {
    "colab_type": "text",
    "id": "lS9hIHdib3dp"
   },
   "source": [
    "<h1>3. Summary</h1>\n",
    "\n",
    "<br> as mentioned in the step 5 of instructions"
   ]
  },
  {
   "cell_type": "markdown",
   "metadata": {},
   "source": [
    "<table style=\"width:100%\">\n",
    "  <tr>\n",
    "    <th>Vectorizer</th>\n",
    "    <th>Model</th>\n",
    "    <th>Hyperparameter</th>\n",
    "    <th>AUC</th>\n",
    "\n",
    "  </tr>\n",
    "  <tr>\n",
    "    <td>BOW</td>\n",
    "    <td>NAIVE BAYES</td>\n",
    "    <td>1e-05</td>\n",
    "    <td>0.689</td>\n",
    "\n",
    "  </tr>\n",
    "  <tr>\n",
    "    <td>TF-IDF</td>\n",
    "    <td>NAIVE BAYES</td>\n",
    "    <td>0.01</td>\n",
    "     <td>0.674</td>\n",
    "\n",
    "  </tr>\n",
    "</table>\n"
   ]
  },
  {
   "cell_type": "markdown",
   "metadata": {},
   "source": []
  },
  {
   "cell_type": "code",
   "execution_count": null,
   "metadata": {},
   "outputs": [],
   "source": []
  },
  {
   "cell_type": "code",
   "execution_count": null,
   "metadata": {},
   "outputs": [],
   "source": []
  }
 ],
 "metadata": {
  "colab": {
   "collapsed_sections": [],
   "name": "6_Assignment_NB_Instructions.ipynb",
   "provenance": []
  },
  "kernelspec": {
   "display_name": "Python 3",
   "language": "python",
   "name": "python3"
  },
  "language_info": {
   "codemirror_mode": {
    "name": "ipython",
    "version": 3
   },
   "file_extension": ".py",
   "mimetype": "text/x-python",
   "name": "python",
   "nbconvert_exporter": "python",
   "pygments_lexer": "ipython3",
   "version": "3.7.6"
  }
 },
 "nbformat": 4,
 "nbformat_minor": 1
}
